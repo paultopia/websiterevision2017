{
 "cells": [
  {
   "cell_type": "code",
   "execution_count": 9,
   "metadata": {
    "collapsed": true
   },
   "outputs": [],
   "source": [
    "import json\n",
    "with open(\"data.json\") as j:\n",
    "    data = json.load(j)\n",
    "\n",
    "def ppj(data):\n",
    "    print(json.dumps(data, indent=4, sort_keys=True))"
   ]
  },
  {
   "cell_type": "code",
   "execution_count": 2,
   "metadata": {
    "collapsed": false
   },
   "outputs": [
    {
     "name": "stdout",
     "output_type": "stream",
     "text": [
      "dict_keys(['books', 'cservice', 'uisvc', 'miscpubs', 'invited', 'chapters', 'prarts', 'awards', 'taships', 'other', 'uiteaching', 'conferences', 'bars', 'barnote', 'courses', 'schools', 'lrarts', 'humanlang', 'practice', 'basics', 'uservice', 'dservice', 'campus', 'computerlang', 'positions', 'notes'])\n"
     ]
    }
   ],
   "source": [
    "print(data.keys())"
   ]
  },
  {
   "cell_type": "code",
   "execution_count": 6,
   "metadata": {
    "collapsed": false
   },
   "outputs": [
    {
     "name": "stdout",
     "output_type": "stream",
     "text": [
      "{'venue': 'University of Toronto, Centre for Innovation Law and Policy', 'title': 'Two Models of Technological Change in Law', 'year': '2017'}\n"
     ]
    }
   ],
   "source": [
    "print(data[\"invited\"][0])"
   ]
  },
  {
   "cell_type": "code",
   "execution_count": 7,
   "metadata": {
    "collapsed": false
   },
   "outputs": [
    {
     "name": "stdout",
     "output_type": "stream",
     "text": [
      "{'venue': 'Annual Meeting of the American Philosophical Association, Central Division', 'title': 'Author/Respondent for Author Meets Critics session on The Rule of Law in the Real World', 'year': '2017'}\n"
     ]
    }
   ],
   "source": [
    "print(data[\"conferences\"][0])"
   ]
  },
  {
   "cell_type": "code",
   "execution_count": 8,
   "metadata": {
    "collapsed": false
   },
   "outputs": [
    {
     "name": "stdout",
     "output_type": "stream",
     "text": [
      "{'venue': 'Iowa Legal Studies Workshop', 'title': \"Corruption and the Transnational Litigation Prisoner's Dilemma (Co-Author with Maya Steinitz)\", 'year': '2015'}\n"
     ]
    }
   ],
   "source": [
    "print(data[\"campus\"][0])"
   ]
  },
  {
   "cell_type": "code",
   "execution_count": 9,
   "metadata": {
    "collapsed": true
   },
   "outputs": [],
   "source": [
    "with open(\"presentations.json\", \"w\") as pj:\n",
    "    json.dump({\"invited\": data[\"invited\"], \"conferences\": data[\"conferences\"], \"campus\": data[\"campus\"]}, pj)"
   ]
  },
  {
   "cell_type": "code",
   "execution_count": 10,
   "metadata": {
    "collapsed": false
   },
   "outputs": [
    {
     "name": "stdout",
     "output_type": "stream",
     "text": [
      "[{'school': 'University of Iowa', 'title': 'Torts', 'terms': '2016-', 'notes': ''}, {'school': 'University of Iowa', 'title': 'Constitutional Law I', 'terms': '2016-', 'notes': '(covers federalism and separation of powers)'}, {'school': 'University of Iowa', 'title': 'Constitutional Law II', 'terms': '2012, 2014, 2015-', 'notes': '(covers bill of rights and reconstruction amendments)'}, {'school': 'University of Iowa', 'title': 'Policy Lab', 'terms': '2015-6', 'notes': '(yearlong)'}, {'school': 'University of Iowa', 'title': 'Professional Responsibility', 'terms': '2013, 2014', 'notes': ''}, {'school': 'Stanford University, Educational Program for Gifted Youth <br>(Stanford campus, plus Singapore Honors Academy in 2011)', 'title': 'Topics in Political Science', 'terms': '2010, 2011, 2012', 'notes': ''}]\n"
     ]
    }
   ],
   "source": [
    "print(data[\"courses\"])"
   ]
  },
  {
   "cell_type": "code",
   "execution_count": 3,
   "metadata": {
    "collapsed": false
   },
   "outputs": [
    {
     "name": "stdout",
     "output_type": "stream",
     "text": [
      "[{'notes': '(teaching assistant for Lawrence Lessig)', 'title': 'Corruption Research Seminar', 'school': 'Stanford University', 'terms': '2008'}, {'notes': '(teaching assistant for Helena de Bres and Avia Pasternak)', 'title': 'Introduction to Global Justice', 'school': 'Stanford University', 'terms': '2008'}, {'notes': '(teaching assistant for Debra Satz)', 'title': 'Philosophical Issues Concerning Race and Racism', 'school': 'Stanford University', 'terms': '2008'}, {'notes': '(teaching assistant for Nadeem Hussein)', 'title': 'Introduction to Political Philosophy', 'school': 'Stanford University', 'terms': '2007'}]\n"
     ]
    }
   ],
   "source": [
    "print(data[\"taships\"])"
   ]
  },
  {
   "cell_type": "code",
   "execution_count": 4,
   "metadata": {
    "collapsed": true
   },
   "outputs": [],
   "source": [
    "with open(\"courses.json\", \"w\") as pj:\n",
    "    json.dump({\"lead\": data[\"courses\"], \"ta\": data[\"taships\"]}, pj)"
   ]
  },
  {
   "cell_type": "code",
   "execution_count": 6,
   "metadata": {
    "collapsed": false
   },
   "outputs": [],
   "source": [
    "with open(\"basic.json\", \"w\") as pj:\n",
    "    json.dump({\"core\": data[\"basics\"], \"education\": data[\"schools\"], \"positions\": data[\"positions\"]}, pj)"
   ]
  },
  {
   "cell_type": "code",
   "execution_count": 7,
   "metadata": {
    "collapsed": false
   },
   "outputs": [
    {
     "name": "stdout",
     "output_type": "stream",
     "text": [
      "[{'role': 'Public/Student Presentation, \"The Unfamiliar Threats to Free Speech\"', 'context': 'University of Iowa, Student Governmemt/Lecture Committee', 'dates': '2017'}, {'role': 'Faculty Adviser, Black Law Students Association', 'context': 'University of Iowa, College of Law', 'dates': '2016-'}, {'role': 'Faculty Advisor, American Constitution Society Student Chapter', 'context': 'University of Iowa, College of Law', 'dates': '2016-'}, {'role': 'Member, Diversity Committee', 'context': 'University of Iowa, College of Law', 'dates': '2016-7'}, {'role': 'Member, Honors and Awards Committee', 'context': 'University of Iowa, College of Law', 'dates': '2016-7'}, {'role': 'Service on one S.J.D. committee, and (2016-) adviser to another', 'context': 'University of Iowa, College of Law', 'dates': '2015-'}, {'role': 'Service on two Ph.D. committees and one M.A. committee', 'context': 'University of Iowa, Department of Philosophy', 'dates': '2017-'}, {'role': 'Chair, Speakers Committee', 'context': 'University of Iowa, College of Law', 'dates': '2015-6'}, {'role': 'Faculty Advisor, AAI Moot Court Problem Creation', 'context': 'University of Iowa, College of Law', 'dates': '2014, 6'}, {'role': 'Member, Speakers Committee', 'context': 'University of Iowa, College of Law', 'dates': '2012-4'}, {'role': 'Judge, AAI Moot Court', 'context': 'University of Iowa, College of Law', 'dates': '2012-7'}, {'role': 'Graduate Admissions Committee', 'context': 'Stanford University, Department of Political Science', 'dates': '2010-11'}, {'role': 'Graduate Organizer, Political Theory Workshop', 'context': 'Stanford University, Department of Political Science', 'dates': '2008'}, {'role': 'Graduate Organizer (interim), Global Justice Workshop', 'context': 'Stanford University, Department of Political Science', 'dates': '2008'}, {'role': 'Chair, Ad Hoc Graduate Incentives Committee, Political Science Graduate Students Association', 'context': 'Stanford University, Department of Political Science', 'dates': '2008'}, {'role': 'Social Chair, Political Science Graduate Students Association', 'context': 'Stanford University, Department of Political Science', 'dates': '2007-8'}, {'role': 'Public Relations Chair, Student Public Interest Network', 'context': 'Harvard Law School', 'dates': '1999-2000'}]\n"
     ]
    }
   ],
   "source": [
    "print(data[\"uservice\"])"
   ]
  },
  {
   "cell_type": "code",
   "execution_count": 8,
   "metadata": {
    "collapsed": false
   },
   "outputs": [
    {
     "name": "stdout",
     "output_type": "stream",
     "text": [
      "[{'years': '2015-', 'role': 'Service on one S.J.D. committee, and (2016-) adviser to another'}, {'years': '2017', 'role': 'Public/Student Presentation, University of Iowa, Student Governmemt/Lecture Committee, \"The Unfamiliar Threats to Free Speech\"'}, {'years': '2017-', 'role': 'Service on two Ph.D. committees and one M.A. committee (philosophy department)'}, {'years': '2016-', 'role': 'Faculty Advisor, Black Law Students Association'}, {'years': '2016-', 'role': 'Faculty Advisor, American Constitution Society Student Chapter'}, {'years': '2016-7', 'role': 'Member, Diversity Committee'}, {'years': '2016-7', 'role': 'Member, Honors and Awards Committee'}, {'years': '2015-6', 'role': 'Chair, Speakers Committee'}, {'years': '2014, 6', 'role': 'Faculty Advisor, AAI Moot Court Problem Creation'}, {'years': '2012-4', 'role': 'Member, Speakers Committee'}, {'years': '2012-7', 'role': 'Judge, AAI Moot Court'}]\n"
     ]
    }
   ],
   "source": [
    "print(data[\"uisvc\"])"
   ]
  },
  {
   "cell_type": "code",
   "execution_count": 10,
   "metadata": {
    "collapsed": false
   },
   "outputs": [
    {
     "name": "stdout",
     "output_type": "stream",
     "text": [
      "[\n",
      "    {\n",
      "        \"role\": \"Service on one S.J.D. committee, and (2016-) adviser to another\",\n",
      "        \"years\": \"2015-\"\n",
      "    },\n",
      "    {\n",
      "        \"role\": \"Public/Student Presentation, University of Iowa, Student Governmemt/Lecture Committee, \\\"The Unfamiliar Threats to Free Speech\\\"\",\n",
      "        \"years\": \"2017\"\n",
      "    },\n",
      "    {\n",
      "        \"role\": \"Service on two Ph.D. committees and one M.A. committee (philosophy department)\",\n",
      "        \"years\": \"2017-\"\n",
      "    },\n",
      "    {\n",
      "        \"role\": \"Faculty Advisor, Black Law Students Association\",\n",
      "        \"years\": \"2016-\"\n",
      "    },\n",
      "    {\n",
      "        \"role\": \"Faculty Advisor, American Constitution Society Student Chapter\",\n",
      "        \"years\": \"2016-\"\n",
      "    },\n",
      "    {\n",
      "        \"role\": \"Member, Diversity Committee\",\n",
      "        \"years\": \"2016-7\"\n",
      "    },\n",
      "    {\n",
      "        \"role\": \"Member, Honors and Awards Committee\",\n",
      "        \"years\": \"2016-7\"\n",
      "    },\n",
      "    {\n",
      "        \"role\": \"Chair, Speakers Committee\",\n",
      "        \"years\": \"2015-6\"\n",
      "    },\n",
      "    {\n",
      "        \"role\": \"Faculty Advisor, AAI Moot Court Problem Creation\",\n",
      "        \"years\": \"2014, 6\"\n",
      "    },\n",
      "    {\n",
      "        \"role\": \"Member, Speakers Committee\",\n",
      "        \"years\": \"2012-4\"\n",
      "    },\n",
      "    {\n",
      "        \"role\": \"Judge, AAI Moot Court\",\n",
      "        \"years\": \"2012-7\"\n",
      "    }\n",
      "]\n"
     ]
    }
   ],
   "source": [
    "ppj(data[\"uisvc\"])"
   ]
  },
  {
   "cell_type": "code",
   "execution_count": 11,
   "metadata": {
    "collapsed": false
   },
   "outputs": [
    {
     "name": "stdout",
     "output_type": "stream",
     "text": [
      "[\n",
      "    {\n",
      "        \"context\": \"University of Iowa, Student Governmemt/Lecture Committee\",\n",
      "        \"dates\": \"2017\",\n",
      "        \"role\": \"Public/Student Presentation, \\\"The Unfamiliar Threats to Free Speech\\\"\"\n",
      "    },\n",
      "    {\n",
      "        \"context\": \"University of Iowa, College of Law\",\n",
      "        \"dates\": \"2016-\",\n",
      "        \"role\": \"Faculty Adviser, Black Law Students Association\"\n",
      "    },\n",
      "    {\n",
      "        \"context\": \"University of Iowa, College of Law\",\n",
      "        \"dates\": \"2016-\",\n",
      "        \"role\": \"Faculty Advisor, American Constitution Society Student Chapter\"\n",
      "    },\n",
      "    {\n",
      "        \"context\": \"University of Iowa, College of Law\",\n",
      "        \"dates\": \"2016-7\",\n",
      "        \"role\": \"Member, Diversity Committee\"\n",
      "    },\n",
      "    {\n",
      "        \"context\": \"University of Iowa, College of Law\",\n",
      "        \"dates\": \"2016-7\",\n",
      "        \"role\": \"Member, Honors and Awards Committee\"\n",
      "    },\n",
      "    {\n",
      "        \"context\": \"University of Iowa, College of Law\",\n",
      "        \"dates\": \"2015-\",\n",
      "        \"role\": \"Service on one S.J.D. committee, and (2016-) adviser to another\"\n",
      "    },\n",
      "    {\n",
      "        \"context\": \"University of Iowa, Department of Philosophy\",\n",
      "        \"dates\": \"2017-\",\n",
      "        \"role\": \"Service on two Ph.D. committees and one M.A. committee\"\n",
      "    },\n",
      "    {\n",
      "        \"context\": \"University of Iowa, College of Law\",\n",
      "        \"dates\": \"2015-6\",\n",
      "        \"role\": \"Chair, Speakers Committee\"\n",
      "    },\n",
      "    {\n",
      "        \"context\": \"University of Iowa, College of Law\",\n",
      "        \"dates\": \"2014, 6\",\n",
      "        \"role\": \"Faculty Advisor, AAI Moot Court Problem Creation\"\n",
      "    },\n",
      "    {\n",
      "        \"context\": \"University of Iowa, College of Law\",\n",
      "        \"dates\": \"2012-4\",\n",
      "        \"role\": \"Member, Speakers Committee\"\n",
      "    },\n",
      "    {\n",
      "        \"context\": \"University of Iowa, College of Law\",\n",
      "        \"dates\": \"2012-7\",\n",
      "        \"role\": \"Judge, AAI Moot Court\"\n",
      "    },\n",
      "    {\n",
      "        \"context\": \"Stanford University, Department of Political Science\",\n",
      "        \"dates\": \"2010-11\",\n",
      "        \"role\": \"Graduate Admissions Committee\"\n",
      "    },\n",
      "    {\n",
      "        \"context\": \"Stanford University, Department of Political Science\",\n",
      "        \"dates\": \"2008\",\n",
      "        \"role\": \"Graduate Organizer, Political Theory Workshop\"\n",
      "    },\n",
      "    {\n",
      "        \"context\": \"Stanford University, Department of Political Science\",\n",
      "        \"dates\": \"2008\",\n",
      "        \"role\": \"Graduate Organizer (interim), Global Justice Workshop\"\n",
      "    },\n",
      "    {\n",
      "        \"context\": \"Stanford University, Department of Political Science\",\n",
      "        \"dates\": \"2008\",\n",
      "        \"role\": \"Chair, Ad Hoc Graduate Incentives Committee, Political Science Graduate Students Association\"\n",
      "    },\n",
      "    {\n",
      "        \"context\": \"Stanford University, Department of Political Science\",\n",
      "        \"dates\": \"2007-8\",\n",
      "        \"role\": \"Social Chair, Political Science Graduate Students Association\"\n",
      "    },\n",
      "    {\n",
      "        \"context\": \"Harvard Law School\",\n",
      "        \"dates\": \"1999-2000\",\n",
      "        \"role\": \"Public Relations Chair, Student Public Interest Network\"\n",
      "    }\n",
      "]\n"
     ]
    }
   ],
   "source": [
    "ppj(data[\"uservice\"])"
   ]
  },
  {
   "cell_type": "code",
   "execution_count": 12,
   "metadata": {
    "collapsed": true
   },
   "outputs": [],
   "source": [
    "userv = []\n",
    "for s in data[\"uservice\"]:\n",
    "    item = {}\n",
    "    topline = [x.strip() for x in s[\"context\"].split(\",\")]\n",
    "    item[\"entity\"] = topline[0]\n",
    "    if len(topline) == 2:\n",
    "        item[\"subentity\"] = topline[1]\n",
    "    else:\n",
    "        item[\"subentity\"] = None\n",
    "    item[\"type\"] = \"university\"\n",
    "    item[\"dates\"] = s[\"dates\"]\n",
    "    item[\"role\"] = s[\"role\"]\n",
    "    userv.append(item)\n",
    "        "
   ]
  },
  {
   "cell_type": "code",
   "execution_count": 13,
   "metadata": {
    "collapsed": false
   },
   "outputs": [
    {
     "name": "stdout",
     "output_type": "stream",
     "text": [
      "[\n",
      "    {\n",
      "        \"dates\": \"2017\",\n",
      "        \"entity\": \"University of Iowa\",\n",
      "        \"role\": \"Public/Student Presentation, \\\"The Unfamiliar Threats to Free Speech\\\"\",\n",
      "        \"subentity\": \"Student Governmemt/Lecture Committee\",\n",
      "        \"type\": \"university\"\n",
      "    },\n",
      "    {\n",
      "        \"dates\": \"2016-\",\n",
      "        \"entity\": \"University of Iowa\",\n",
      "        \"role\": \"Faculty Adviser, Black Law Students Association\",\n",
      "        \"subentity\": \"College of Law\",\n",
      "        \"type\": \"university\"\n",
      "    },\n",
      "    {\n",
      "        \"dates\": \"2016-\",\n",
      "        \"entity\": \"University of Iowa\",\n",
      "        \"role\": \"Faculty Advisor, American Constitution Society Student Chapter\",\n",
      "        \"subentity\": \"College of Law\",\n",
      "        \"type\": \"university\"\n",
      "    },\n",
      "    {\n",
      "        \"dates\": \"2016-7\",\n",
      "        \"entity\": \"University of Iowa\",\n",
      "        \"role\": \"Member, Diversity Committee\",\n",
      "        \"subentity\": \"College of Law\",\n",
      "        \"type\": \"university\"\n",
      "    },\n",
      "    {\n",
      "        \"dates\": \"2016-7\",\n",
      "        \"entity\": \"University of Iowa\",\n",
      "        \"role\": \"Member, Honors and Awards Committee\",\n",
      "        \"subentity\": \"College of Law\",\n",
      "        \"type\": \"university\"\n",
      "    },\n",
      "    {\n",
      "        \"dates\": \"2015-\",\n",
      "        \"entity\": \"University of Iowa\",\n",
      "        \"role\": \"Service on one S.J.D. committee, and (2016-) adviser to another\",\n",
      "        \"subentity\": \"College of Law\",\n",
      "        \"type\": \"university\"\n",
      "    },\n",
      "    {\n",
      "        \"dates\": \"2017-\",\n",
      "        \"entity\": \"University of Iowa\",\n",
      "        \"role\": \"Service on two Ph.D. committees and one M.A. committee\",\n",
      "        \"subentity\": \"Department of Philosophy\",\n",
      "        \"type\": \"university\"\n",
      "    },\n",
      "    {\n",
      "        \"dates\": \"2015-6\",\n",
      "        \"entity\": \"University of Iowa\",\n",
      "        \"role\": \"Chair, Speakers Committee\",\n",
      "        \"subentity\": \"College of Law\",\n",
      "        \"type\": \"university\"\n",
      "    },\n",
      "    {\n",
      "        \"dates\": \"2014, 6\",\n",
      "        \"entity\": \"University of Iowa\",\n",
      "        \"role\": \"Faculty Advisor, AAI Moot Court Problem Creation\",\n",
      "        \"subentity\": \"College of Law\",\n",
      "        \"type\": \"university\"\n",
      "    },\n",
      "    {\n",
      "        \"dates\": \"2012-4\",\n",
      "        \"entity\": \"University of Iowa\",\n",
      "        \"role\": \"Member, Speakers Committee\",\n",
      "        \"subentity\": \"College of Law\",\n",
      "        \"type\": \"university\"\n",
      "    },\n",
      "    {\n",
      "        \"dates\": \"2012-7\",\n",
      "        \"entity\": \"University of Iowa\",\n",
      "        \"role\": \"Judge, AAI Moot Court\",\n",
      "        \"subentity\": \"College of Law\",\n",
      "        \"type\": \"university\"\n",
      "    },\n",
      "    {\n",
      "        \"dates\": \"2010-11\",\n",
      "        \"entity\": \"Stanford University\",\n",
      "        \"role\": \"Graduate Admissions Committee\",\n",
      "        \"subentity\": \"Department of Political Science\",\n",
      "        \"type\": \"university\"\n",
      "    },\n",
      "    {\n",
      "        \"dates\": \"2008\",\n",
      "        \"entity\": \"Stanford University\",\n",
      "        \"role\": \"Graduate Organizer, Political Theory Workshop\",\n",
      "        \"subentity\": \"Department of Political Science\",\n",
      "        \"type\": \"university\"\n",
      "    },\n",
      "    {\n",
      "        \"dates\": \"2008\",\n",
      "        \"entity\": \"Stanford University\",\n",
      "        \"role\": \"Graduate Organizer (interim), Global Justice Workshop\",\n",
      "        \"subentity\": \"Department of Political Science\",\n",
      "        \"type\": \"university\"\n",
      "    },\n",
      "    {\n",
      "        \"dates\": \"2008\",\n",
      "        \"entity\": \"Stanford University\",\n",
      "        \"role\": \"Chair, Ad Hoc Graduate Incentives Committee, Political Science Graduate Students Association\",\n",
      "        \"subentity\": \"Department of Political Science\",\n",
      "        \"type\": \"university\"\n",
      "    },\n",
      "    {\n",
      "        \"dates\": \"2007-8\",\n",
      "        \"entity\": \"Stanford University\",\n",
      "        \"role\": \"Social Chair, Political Science Graduate Students Association\",\n",
      "        \"subentity\": \"Department of Political Science\",\n",
      "        \"type\": \"university\"\n",
      "    },\n",
      "    {\n",
      "        \"dates\": \"1999-2000\",\n",
      "        \"entity\": \"Harvard Law School\",\n",
      "        \"role\": \"Public Relations Chair, Student Public Interest Network\",\n",
      "        \"subentity\": null,\n",
      "        \"type\": \"university\"\n",
      "    }\n",
      "]\n"
     ]
    }
   ],
   "source": [
    "ppj(userv)"
   ]
  },
  {
   "cell_type": "code",
   "execution_count": 15,
   "metadata": {
    "collapsed": false
   },
   "outputs": [
    {
     "name": "stdout",
     "output_type": "stream",
     "text": [
      "[\n",
      "    \"notes\",\n",
      "    \"lrarts\",\n",
      "    \"invited\",\n",
      "    \"prarts\",\n",
      "    \"uisvc\",\n",
      "    \"bars\",\n",
      "    \"cservice\",\n",
      "    \"courses\",\n",
      "    \"campus\",\n",
      "    \"practice\",\n",
      "    \"basics\",\n",
      "    \"chapters\",\n",
      "    \"schools\",\n",
      "    \"barnote\",\n",
      "    \"other\",\n",
      "    \"humanlang\",\n",
      "    \"conferences\",\n",
      "    \"miscpubs\",\n",
      "    \"uservice\",\n",
      "    \"awards\",\n",
      "    \"uiteaching\",\n",
      "    \"taships\",\n",
      "    \"dservice\",\n",
      "    \"computerlang\",\n",
      "    \"positions\",\n",
      "    \"books\"\n",
      "]\n"
     ]
    }
   ],
   "source": [
    "ppj(list(data.keys()))"
   ]
  },
  {
   "cell_type": "code",
   "execution_count": 16,
   "metadata": {
    "collapsed": false
   },
   "outputs": [
    {
     "name": "stdout",
     "output_type": "stream",
     "text": [
      "[\n",
      "    {\n",
      "        \"activity\": \"Member, Iowa City Telecommunications Commission\",\n",
      "        \"dates\": \"2016-\",\n",
      "        \"url\": \"\"\n",
      "    },\n",
      "    {\n",
      "        \"activity\": \"Panelist: 'Family Law', Iowa LGBT Rural Summit (USDA/National Center for Lesbian Rights/Drake Law School)\",\n",
      "        \"dates\": \"2016\",\n",
      "        \"url\": \"\"\n",
      "    },\n",
      "    {\n",
      "        \"activity\": \"Presentation, 'Loving v. Virginia,' African-American Museum of Iowa/Cedar Rapids Public Library\",\n",
      "        \"dates\": \"2016\",\n",
      "        \"url\": \"\"\n",
      "    },\n",
      "    {\n",
      "        \"activity\": \"Presentation, 'The Leadership Rationale,' The Past, Present, & Future of Diversity and Inclusion Within the Central Iowa Legal Community\",\n",
      "        \"dates\": \"2015\",\n",
      "        \"url\": \"\"\n",
      "    },\n",
      "    {\n",
      "        \"activity\": \"Presentation, Voting Rights in the United States: Iowa Interfaith Alliance, Intersections speaker series\",\n",
      "        \"dates\": \"2014\",\n",
      "        \"url\": \"\"\n",
      "    },\n",
      "    {\n",
      "        \"activity\": \"Panelist, Ethical Perspectives on the News: KCRG TV (discussing religion and public life, Hobby Lobby, etc.)\",\n",
      "        \"dates\": \"2014\",\n",
      "        \"url\": \"\"\n",
      "    },\n",
      "    {\n",
      "        \"activity\": \"Editorial, \\\"Court Moves Toward Death for Contraceptive Coverage\\\": Des Moines Register,\",\n",
      "        \"dates\": \"2014\",\n",
      "        \"url\": \"http://www.desmoinesregister.com/story/opinion/columnists/iowa-view/2014/07/08/supreme-court-contraceptive-ruling/12325985/\"\n",
      "    },\n",
      "    {\n",
      "        \"activity\": \"Guest blogger, Prawfsblawg\",\n",
      "        \"dates\": \"2015, 6\",\n",
      "        \"url\": \"http://paul-gowder.com/?page_id=192\"\n",
      "    },\n",
      "    {\n",
      "        \"activity\": \"Guest blogger, Concurring Opinions\",\n",
      "        \"dates\": \"2013\",\n",
      "        \"url\": \"http://paul-gowder.com/?page_id=192\"\n",
      "    },\n",
      "    {\n",
      "        \"activity\": \"Editorial: \\\"Independent Judiciary\\\": Cedar Rapids Gazette (with Nicholas Johnson)\",\n",
      "        \"dates\": \"2012\",\n",
      "        \"url\": \"http://thegazette.com/2012/10/27/independent-judiciary\"\n",
      "    },\n",
      "    {\n",
      "        \"activity\": \"Presentation: The Law and Ethics of Farm Worker Internships, Cultivating Food Justice Conference\",\n",
      "        \"dates\": \"2010\",\n",
      "        \"url\": \"\"\n",
      "    },\n",
      "    {\n",
      "        \"activity\": \"Editorial: \\\"A Naked Assault on the Public and Courts\\\": Oregon State Bar Journal\",\n",
      "        \"dates\": \"2005\",\n",
      "        \"url\": \"http://www.osbar.org/publications/bulletin/05jul/parting.html\"\n",
      "    },\n",
      "    {\n",
      "        \"activity\": \"Executive Board Member, Oregon Rural Action\",\n",
      "        \"dates\": \"2001-3\",\n",
      "        \"url\": \"\"\n",
      "    }\n",
      "]\n"
     ]
    }
   ],
   "source": [
    "ppj(data[\"cservice\"])"
   ]
  },
  {
   "cell_type": "code",
   "execution_count": 17,
   "metadata": {
    "collapsed": false
   },
   "outputs": [
    {
     "name": "stdout",
     "output_type": "stream",
     "text": [
      "[\n",
      "    {\n",
      "        \"dates\": \"2016\",\n",
      "        \"role\": \"Reviewer, Journal of Political Philosophy\"\n",
      "    },\n",
      "    {\n",
      "        \"dates\": \"2016\",\n",
      "        \"role\": \"Reviewer, Oxford University Press\"\n",
      "    },\n",
      "    {\n",
      "        \"dates\": \"2016\",\n",
      "        \"role\": \"Reviewer, McGill University Press\"\n",
      "    },\n",
      "    {\n",
      "        \"dates\": \"2016\",\n",
      "        \"role\": \"Reviewer, British Journal of Political Science\"\n",
      "    },\n",
      "    {\n",
      "        \"dates\": \"2015, 6\",\n",
      "        \"role\": \"Reviewer, Cambridge University Press\"\n",
      "    },\n",
      "    {\n",
      "        \"dates\": \"2015\",\n",
      "        \"role\": \"Reviewer, Columbia University Press\"\n",
      "    },\n",
      "    {\n",
      "        \"dates\": \"2015\",\n",
      "        \"role\": \"Reviewer, South Carolina Law Review\"\n",
      "    },\n",
      "    {\n",
      "        \"dates\": \"2015\",\n",
      "        \"role\": \"Reviewer, Journal of Legal Analysis\"\n",
      "    },\n",
      "    {\n",
      "        \"dates\": \"2014, 6\",\n",
      "        \"role\": \"Reviewer, European Journal of Political Theory\"\n",
      "    },\n",
      "    {\n",
      "        \"dates\": \"2014\",\n",
      "        \"role\": \"Reviewer, International Journal of Law and Economics\"\n",
      "    },\n",
      "    {\n",
      "        \"dates\": \"2013-4\",\n",
      "        \"role\": \"Reviewer, Journal of Politics\"\n",
      "    }\n",
      "]\n"
     ]
    }
   ],
   "source": [
    "ppj(data[\"dservice\"])"
   ]
  },
  {
   "cell_type": "code",
   "execution_count": 18,
   "metadata": {
    "collapsed": true
   },
   "outputs": [],
   "source": [
    "with open(\"service.json\", \"w\") as pj:\n",
    "    json.dump({\"university\": userv, \"disciplinary\": data[\"dservice\"], \"community\": data[\"cservice\"]}, pj)"
   ]
  },
  {
   "cell_type": "code",
   "execution_count": 19,
   "metadata": {
    "collapsed": false
   },
   "outputs": [
    {
     "name": "stdout",
     "output_type": "stream",
     "text": [
      "[\n",
      "    {\n",
      "        \"name\": \"Institute for Advanced Study, Princeton, NJ: Member (School of Social Science)\",\n",
      "        \"year\": \"2014-5\"\n",
      "    },\n",
      "    {\n",
      "        \"name\": \"Law and Public Affairs Program, Princeton University (LAPA/Perkins Fellow, offered but declined)\",\n",
      "        \"year\": \"2014-5\"\n",
      "    },\n",
      "    {\n",
      "        \"name\": \"Edmond J. Safra Center for Ethics, Harvard University: Network Fellow\",\n",
      "        \"year\": \"2014-5\"\n",
      "    },\n",
      "    {\n",
      "        \"name\": \"Montreal Political Theory Manuscript Award, Groupe de recherche interuniversitaire en philosophie politique de Montreal (for The Rule of Law in the Real World)\",\n",
      "        \"year\": \"2014\"\n",
      "    },\n",
      "    {\n",
      "        \"name\": \"Geballe Dissertation Prize Fellowship, Stanford University\",\n",
      "        \"year\": \"2011-2\"\n",
      "    },\n",
      "    {\n",
      "        \"name\": \"Gerhard Casper Stanford Graduate Fellowship\",\n",
      "        \"year\": \"2008-11\"\n",
      "    },\n",
      "    {\n",
      "        \"name\": \"Philanthropy and Civil Society Fellowship, Stanford University\",\n",
      "        \"year\": \"2008-9\"\n",
      "    },\n",
      "    {\n",
      "        \"name\": \"Williston Contracts Competition (first place), Harvard Law School\",\n",
      "        \"year\": \"1998\"\n",
      "    }\n",
      "]\n"
     ]
    }
   ],
   "source": [
    "ppj(data[\"awards\"])"
   ]
  },
  {
   "cell_type": "code",
   "execution_count": 20,
   "metadata": {
    "collapsed": true
   },
   "outputs": [],
   "source": [
    "with open(\"awards.json\", \"w\") as pj:\n",
    "    json.dump(data[\"awards\"], pj)"
   ]
  },
  {
   "cell_type": "code",
   "execution_count": 21,
   "metadata": {
    "collapsed": true
   },
   "outputs": [],
   "source": [
    "with open(\"misc.json\", \"w\") as pj:\n",
    "    json.dump({\"notes\": data[\"notes\"], \"bars\": data[\"bars\"], \"other\": data[\"other\"], \"humanlang\": data[\"humanlang\"], \"computerlang\": data[\"computerlang\"], \"practice\": data[\"practice\"]}, pj)"
   ]
  },
  {
   "cell_type": "code",
   "execution_count": 22,
   "metadata": {
    "collapsed": false
   },
   "outputs": [
    {
     "name": "stdout",
     "output_type": "stream",
     "text": [
      "[\n",
      "    \"Ph.D. Dissertation: An Egalitarian Theory of the Rule of Law\",\n",
      "    \"Ph.D. Fields: Political Theory (major), Political Institutions (major), American Politics (minor)\",\n",
      "    \"Research Assistant to Lawrence Lessig (2006-8, 1999), and to Richard Sobel (1998)\"\n",
      "]\n"
     ]
    }
   ],
   "source": [
    "ppj(data[\"other\"])"
   ]
  },
  {
   "cell_type": "code",
   "execution_count": null,
   "metadata": {
    "collapsed": true
   },
   "outputs": [],
   "source": []
  }
 ],
 "metadata": {
  "kernelspec": {
   "display_name": "Python 3",
   "language": "python",
   "name": "python3"
  },
  "language_info": {
   "codemirror_mode": {
    "name": "ipython",
    "version": 3
   },
   "file_extension": ".py",
   "mimetype": "text/x-python",
   "name": "python",
   "nbconvert_exporter": "python",
   "pygments_lexer": "ipython3",
   "version": "3.5.1"
  }
 },
 "nbformat": 4,
 "nbformat_minor": 0
}
