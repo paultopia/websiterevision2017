{
 "cells": [
  {
   "cell_type": "code",
   "execution_count": 1,
   "metadata": {
    "collapsed": true
   },
   "outputs": [],
   "source": [
    "import json\n",
    "with open('service.json') as sj:\n",
    "    data = json.load(sj)"
   ]
  },
  {
   "cell_type": "code",
   "execution_count": 2,
   "metadata": {
    "collapsed": true
   },
   "outputs": [],
   "source": [
    "us = [{\"years\": x[\"dates\"], \"role\": x[\"role\"], \"entity\": x[\"entity\"], \"subentity\": x[\"subentity\"],\n",
    "       \"type\": x[\"type\"]} for x in data[\"university\"]]"
   ]
  },
  {
   "cell_type": "code",
   "execution_count": 3,
   "metadata": {
    "collapsed": false
   },
   "outputs": [
    {
     "data": {
      "text/plain": [
       "[{'entity': 'University of Iowa',\n",
       "  'role': 'Public/Student Presentation, \"The Unfamiliar Threats to Free Speech\"',\n",
       "  'subentity': 'Student Governmemt/Lecture Committee',\n",
       "  'type': 'university',\n",
       "  'years': '2017'},\n",
       " {'entity': 'University of Iowa',\n",
       "  'role': 'Faculty Adviser, Black Law Students Association',\n",
       "  'subentity': 'College of Law',\n",
       "  'type': 'university',\n",
       "  'years': '2016-'},\n",
       " {'entity': 'University of Iowa',\n",
       "  'role': 'Faculty Advisor, American Constitution Society Student Chapter',\n",
       "  'subentity': 'College of Law',\n",
       "  'type': 'university',\n",
       "  'years': '2016-'},\n",
       " {'entity': 'University of Iowa',\n",
       "  'role': 'Member, Diversity Committee',\n",
       "  'subentity': 'College of Law',\n",
       "  'type': 'university',\n",
       "  'years': '2016-7'},\n",
       " {'entity': 'University of Iowa',\n",
       "  'role': 'Member, Honors and Awards Committee',\n",
       "  'subentity': 'College of Law',\n",
       "  'type': 'university',\n",
       "  'years': '2016-7'},\n",
       " {'entity': 'University of Iowa',\n",
       "  'role': 'Service on one S.J.D. committee, and (2016-) adviser to another',\n",
       "  'subentity': 'College of Law',\n",
       "  'type': 'university',\n",
       "  'years': '2015-'},\n",
       " {'entity': 'University of Iowa',\n",
       "  'role': 'Service on two Ph.D. committees and one M.A. committee',\n",
       "  'subentity': 'Department of Philosophy',\n",
       "  'type': 'university',\n",
       "  'years': '2017-'},\n",
       " {'entity': 'University of Iowa',\n",
       "  'role': 'Chair, Speakers Committee',\n",
       "  'subentity': 'College of Law',\n",
       "  'type': 'university',\n",
       "  'years': '2015-6'},\n",
       " {'entity': 'University of Iowa',\n",
       "  'role': 'Faculty Advisor, AAI Moot Court Problem Creation',\n",
       "  'subentity': 'College of Law',\n",
       "  'type': 'university',\n",
       "  'years': '2014, 6'},\n",
       " {'entity': 'University of Iowa',\n",
       "  'role': 'Member, Speakers Committee',\n",
       "  'subentity': 'College of Law',\n",
       "  'type': 'university',\n",
       "  'years': '2012-4'},\n",
       " {'entity': 'University of Iowa',\n",
       "  'role': 'Judge, AAI Moot Court',\n",
       "  'subentity': 'College of Law',\n",
       "  'type': 'university',\n",
       "  'years': '2012-7'},\n",
       " {'entity': 'Stanford University',\n",
       "  'role': 'Graduate Admissions Committee',\n",
       "  'subentity': 'Department of Political Science',\n",
       "  'type': 'university',\n",
       "  'years': '2010-11'},\n",
       " {'entity': 'Stanford University',\n",
       "  'role': 'Graduate Organizer, Political Theory Workshop',\n",
       "  'subentity': 'Department of Political Science',\n",
       "  'type': 'university',\n",
       "  'years': '2008'},\n",
       " {'entity': 'Stanford University',\n",
       "  'role': 'Graduate Organizer (interim), Global Justice Workshop',\n",
       "  'subentity': 'Department of Political Science',\n",
       "  'type': 'university',\n",
       "  'years': '2008'},\n",
       " {'entity': 'Stanford University',\n",
       "  'role': 'Chair, Ad Hoc Graduate Incentives Committee, Political Science Graduate Students Association',\n",
       "  'subentity': 'Department of Political Science',\n",
       "  'type': 'university',\n",
       "  'years': '2008'},\n",
       " {'entity': 'Stanford University',\n",
       "  'role': 'Social Chair, Political Science Graduate Students Association',\n",
       "  'subentity': 'Department of Political Science',\n",
       "  'type': 'university',\n",
       "  'years': '2007-8'},\n",
       " {'entity': 'Harvard Law School',\n",
       "  'role': 'Public Relations Chair, Student Public Interest Network',\n",
       "  'subentity': None,\n",
       "  'type': 'university',\n",
       "  'years': '1999-2000'}]"
      ]
     },
     "execution_count": 3,
     "metadata": {},
     "output_type": "execute_result"
    }
   ],
   "source": [
    "us"
   ]
  },
  {
   "cell_type": "code",
   "execution_count": 5,
   "metadata": {
    "collapsed": false
   },
   "outputs": [],
   "source": [
    "cs = [{\"years\": x[\"dates\"], \"role\": x[\"activity\"], \"type\": \"community\"} for x in data[\"community\"]]"
   ]
  },
  {
   "cell_type": "code",
   "execution_count": 6,
   "metadata": {
    "collapsed": true
   },
   "outputs": [],
   "source": [
    "ds = [{\"years\": x[\"dates\"], \"role\": x[\"role\"], \"type\": \"disciplinary\"} for x in data[\"disciplinary\"]]"
   ]
  },
  {
   "cell_type": "code",
   "execution_count": 7,
   "metadata": {
    "collapsed": true
   },
   "outputs": [],
   "source": [
    "with open(\"service2.json\", \"w\") as sj2:\n",
    "    json.dump(us + cs + ds, sj2)"
   ]
  },
  {
   "cell_type": "code",
   "execution_count": 8,
   "metadata": {
    "collapsed": false
   },
   "outputs": [
    {
     "name": "stdout",
     "output_type": "stream",
     "text": [
      "[{'years': '2017', 'subentity': 'Student Governmemt/Lecture Committee', 'entity': 'University of Iowa', 'role': 'Public/Student Presentation, \"The Unfamiliar Threats to Free Speech\"', 'type': 'university'}, {'years': '2016-', 'subentity': 'College of Law', 'entity': 'University of Iowa', 'role': 'Faculty Adviser, Black Law Students Association', 'type': 'university'}, {'years': '2016-', 'subentity': 'College of Law', 'entity': 'University of Iowa', 'role': 'Faculty Advisor, American Constitution Society Student Chapter', 'type': 'university'}, {'years': '2016-7', 'subentity': 'College of Law', 'entity': 'University of Iowa', 'role': 'Member, Diversity Committee', 'type': 'university'}, {'years': '2016-7', 'subentity': 'College of Law', 'entity': 'University of Iowa', 'role': 'Member, Honors and Awards Committee', 'type': 'university'}, {'years': '2015-', 'subentity': 'College of Law', 'entity': 'University of Iowa', 'role': 'Service on one S.J.D. committee, and (2016-) adviser to another', 'type': 'university'}, {'years': '2017-', 'subentity': 'Department of Philosophy', 'entity': 'University of Iowa', 'role': 'Service on two Ph.D. committees and one M.A. committee', 'type': 'university'}, {'years': '2015-6', 'subentity': 'College of Law', 'entity': 'University of Iowa', 'role': 'Chair, Speakers Committee', 'type': 'university'}, {'years': '2014, 6', 'subentity': 'College of Law', 'entity': 'University of Iowa', 'role': 'Faculty Advisor, AAI Moot Court Problem Creation', 'type': 'university'}, {'years': '2012-4', 'subentity': 'College of Law', 'entity': 'University of Iowa', 'role': 'Member, Speakers Committee', 'type': 'university'}, {'years': '2012-7', 'subentity': 'College of Law', 'entity': 'University of Iowa', 'role': 'Judge, AAI Moot Court', 'type': 'university'}, {'years': '2010-11', 'subentity': 'Department of Political Science', 'entity': 'Stanford University', 'role': 'Graduate Admissions Committee', 'type': 'university'}, {'years': '2008', 'subentity': 'Department of Political Science', 'entity': 'Stanford University', 'role': 'Graduate Organizer, Political Theory Workshop', 'type': 'university'}, {'years': '2008', 'subentity': 'Department of Political Science', 'entity': 'Stanford University', 'role': 'Graduate Organizer (interim), Global Justice Workshop', 'type': 'university'}, {'years': '2008', 'subentity': 'Department of Political Science', 'entity': 'Stanford University', 'role': 'Chair, Ad Hoc Graduate Incentives Committee, Political Science Graduate Students Association', 'type': 'university'}, {'years': '2007-8', 'subentity': 'Department of Political Science', 'entity': 'Stanford University', 'role': 'Social Chair, Political Science Graduate Students Association', 'type': 'university'}, {'years': '1999-2000', 'subentity': None, 'entity': 'Harvard Law School', 'role': 'Public Relations Chair, Student Public Interest Network', 'type': 'university'}, {'years': '2016-', 'role': 'Member, Iowa City Telecommunications Commission', 'type': 'community'}, {'years': '2016', 'role': \"Panelist: 'Family Law', Iowa LGBT Rural Summit (USDA/National Center for Lesbian Rights/Drake Law School)\", 'type': 'community'}, {'years': '2016', 'role': \"Presentation, 'Loving v. Virginia,' African-American Museum of Iowa/Cedar Rapids Public Library\", 'type': 'community'}, {'years': '2015', 'role': \"Presentation, 'The Leadership Rationale,' The Past, Present, & Future of Diversity and Inclusion Within the Central Iowa Legal Community\", 'type': 'community'}, {'years': '2014', 'role': 'Presentation, Voting Rights in the United States: Iowa Interfaith Alliance, Intersections speaker series', 'type': 'community'}, {'years': '2014', 'role': 'Panelist, Ethical Perspectives on the News: KCRG TV (discussing religion and public life, Hobby Lobby, etc.)', 'type': 'community'}, {'years': '2014', 'role': 'Editorial, \"Court Moves Toward Death for Contraceptive Coverage\": Des Moines Register,', 'type': 'community'}, {'years': '2015, 6', 'role': 'Guest blogger, Prawfsblawg', 'type': 'community'}, {'years': '2013', 'role': 'Guest blogger, Concurring Opinions', 'type': 'community'}, {'years': '2012', 'role': 'Editorial: \"Independent Judiciary\": Cedar Rapids Gazette (with Nicholas Johnson)', 'type': 'community'}, {'years': '2010', 'role': 'Presentation: The Law and Ethics of Farm Worker Internships, Cultivating Food Justice Conference', 'type': 'community'}, {'years': '2005', 'role': 'Editorial: \"A Naked Assault on the Public and Courts\": Oregon State Bar Journal', 'type': 'community'}, {'years': '2001-3', 'role': 'Executive Board Member, Oregon Rural Action', 'type': 'community'}, {'years': '2016', 'role': 'Reviewer, Journal of Political Philosophy', 'type': 'disciplinary'}, {'years': '2016', 'role': 'Reviewer, Oxford University Press', 'type': 'disciplinary'}, {'years': '2016', 'role': 'Reviewer, McGill University Press', 'type': 'disciplinary'}, {'years': '2016', 'role': 'Reviewer, British Journal of Political Science', 'type': 'disciplinary'}, {'years': '2015, 6', 'role': 'Reviewer, Cambridge University Press', 'type': 'disciplinary'}, {'years': '2015', 'role': 'Reviewer, Columbia University Press', 'type': 'disciplinary'}, {'years': '2015', 'role': 'Reviewer, South Carolina Law Review', 'type': 'disciplinary'}, {'years': '2015', 'role': 'Reviewer, Journal of Legal Analysis', 'type': 'disciplinary'}, {'years': '2014, 6', 'role': 'Reviewer, European Journal of Political Theory', 'type': 'disciplinary'}, {'years': '2014', 'role': 'Reviewer, International Journal of Law and Economics', 'type': 'disciplinary'}, {'years': '2013-4', 'role': 'Reviewer, Journal of Politics', 'type': 'disciplinary'}] <_io.TextIOWrapper name='service2.json' mode='w' encoding='UTF-8'>\n"
     ]
    }
   ],
   "source": [
    "print(us + cs + ds, sj2)"
   ]
  },
  {
   "cell_type": "code",
   "execution_count": null,
   "metadata": {
    "collapsed": true
   },
   "outputs": [],
   "source": []
  }
 ],
 "metadata": {
  "kernelspec": {
   "display_name": "Python 3",
   "language": "python",
   "name": "python3"
  },
  "language_info": {
   "codemirror_mode": {
    "name": "ipython",
    "version": 3
   },
   "file_extension": ".py",
   "mimetype": "text/x-python",
   "name": "python",
   "nbconvert_exporter": "python",
   "pygments_lexer": "ipython3",
   "version": "3.5.1"
  }
 },
 "nbformat": 4,
 "nbformat_minor": 0
}
